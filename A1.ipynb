{
 "cells": [
  {
   "cell_type": "markdown",
   "id": "e767a20d-ba12-4b9e-b11a-56a1a4652ec1",
   "metadata": {},
   "source": [
    "Assignment 3 UCS712 R.no 102317283(Dhairya)"
   ]
  },
  {
   "cell_type": "markdown",
   "id": "2729bdc1-c62f-41b5-937f-039a4a9bdfee",
   "metadata": {},
   "source": [
    "#A3.1"
   ]
  },
  {
   "cell_type": "code",
   "execution_count": 23,
   "id": "e3261b4f-e25c-4d4b-b4c0-404bafd56a71",
   "metadata": {},
   "outputs": [
    {
     "name": "stdout",
     "output_type": "stream",
     "text": [
      "Enter First Name: "
     ]
    },
    {
     "name": "stdin",
     "output_type": "stream",
     "text": [
      " Dhairya\n"
     ]
    },
    {
     "name": "stdout",
     "output_type": "stream",
     "text": [
      "Enter Surname: "
     ]
    },
    {
     "name": "stdin",
     "output_type": "stream",
     "text": [
      " Parikh\n"
     ]
    },
    {
     "name": "stdout",
     "output_type": "stream",
     "text": [
      "Calculating horoscope\n",
      ". . . . . . . . \n",
      " You will live 131 Years more !!\n"
     ]
    }
   ],
   "source": [
    "import time\n",
    "print(\"Enter First Name:\", end=\" \")\n",
    "fname = input()\n",
    "print(\"Enter Surname:\", end=\" \")\n",
    "sname = input()\n",
    "print(\"Calculating horoscope\")\n",
    "for x in range(8):\n",
    "    print(\".\", end=\" \")\n",
    "    time.sleep(0.8)\n",
    "num = 0\n",
    "for x in fname:\n",
    "    num += ord(x)\n",
    "for x in sname:\n",
    "    num += ord(x)\n",
    "print(\"\\n You will live \" + str(num/10) + \" Years more !!\")\n"
   ]
  },
  {
   "cell_type": "code",
   "execution_count": null,
   "id": "ad25305f-0184-42d5-a4e7-49f06f46e8e8",
   "metadata": {},
   "outputs": [],
   "source": []
  }
 ],
 "metadata": {
  "kernelspec": {
   "display_name": "Python 3 (ipykernel)",
   "language": "python",
   "name": "python3"
  },
  "language_info": {
   "codemirror_mode": {
    "name": "ipython",
    "version": 3
   },
   "file_extension": ".py",
   "mimetype": "text/x-python",
   "name": "python",
   "nbconvert_exporter": "python",
   "pygments_lexer": "ipython3",
   "version": "3.11.7"
  }
 },
 "nbformat": 4,
 "nbformat_minor": 5
}
