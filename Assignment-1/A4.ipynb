{
 "cells": [
  {
   "cell_type": "markdown",
   "id": "e767a20d-ba12-4b9e-b11a-56a1a4652ec1",
   "metadata": {},
   "source": [
    "Assignment 5 UCS712 R.no 102317283(Dhairya)"
   ]
  },
  {
   "cell_type": "markdown",
   "id": "2729bdc1-c62f-41b5-937f-039a4a9bdfee",
   "metadata": {},
   "source": [
    "#A5.1"
   ]
  },
  {
   "cell_type": "code",
   "execution_count": 1,
   "id": "5fdb35fd-f827-4831-999d-43459730b0cf",
   "metadata": {},
   "outputs": [
    {
     "name": "stdout",
     "output_type": "stream",
     "text": [
      "welcome to function for finding maximum of three numbers!! \n",
      "enter number 1: \n"
     ]
    },
    {
     "name": "stdin",
     "output_type": "stream",
     "text": [
      " 1\n"
     ]
    },
    {
     "name": "stdout",
     "output_type": "stream",
     "text": [
      "enter number 2: \n"
     ]
    },
    {
     "name": "stdin",
     "output_type": "stream",
     "text": [
      " 2\n"
     ]
    },
    {
     "name": "stdout",
     "output_type": "stream",
     "text": [
      "enter number 3: \n"
     ]
    },
    {
     "name": "stdin",
     "output_type": "stream",
     "text": [
      " 3\n"
     ]
    },
    {
     "name": "stdout",
     "output_type": "stream",
     "text": [
      "\n",
      "3 is the maximum of three\n"
     ]
    }
   ],
   "source": [
    "print(\"welcome to function for finding maximum of three numbers!! \")\n",
    "print(\"enter number 1: \")\n",
    "n1 = int(input())\n",
    "print(\"enter number 2: \")\n",
    "n2 = int(input())\n",
    "print(\"enter number 3: \")\n",
    "n3 = int(input())\n",
    "\n",
    "print(\"\\n\" + str(max(n1, n2, n3)) + \" is the maximum of three\")"
   ]
  },
  {
   "cell_type": "markdown",
   "id": "d5965319-59d6-47e7-a6aa-dc9f841d1437",
   "metadata": {},
   "source": [
    "#A5.2"
   ]
  },
  {
   "cell_type": "code",
   "execution_count": 7,
   "id": "87e0652c-9930-410c-9f36-efde729e27e3",
   "metadata": {},
   "outputs": [
    {
     "name": "stdout",
     "output_type": "stream",
     "text": [
      " welcome to the program for finding numbers divisible by both 7 and 9 between 1 to n.\n",
      " enter n: \n"
     ]
    },
    {
     "name": "stdin",
     "output_type": "stream",
     "text": [
      " 64\n"
     ]
    },
    {
     "name": "stdout",
     "output_type": "stream",
     "text": [
      "63,  "
     ]
    }
   ],
   "source": [
    "print(\" welcome to the program for finding numbers divisible by both 7 and 9 between 1 to n.\")\n",
    "print(\" enter n: \")\n",
    "num = int(input())\n",
    "if num < 63:\n",
    "    print(\" No number exists between 1 and \" + str(num) + \" which is divisible by 7 and 9\")\n",
    "else:\n",
    "    for x in range(1,(num//63)+1):\n",
    "        print(str(x*63) + \", \", end=\" \")\n"
   ]
  },
  {
   "cell_type": "markdown",
   "id": "ce1f6ae5-6b99-416f-b925-580773613d21",
   "metadata": {},
   "source": [
    "#A5.3"
   ]
  },
  {
   "cell_type": "code",
   "execution_count": 13,
   "id": "0477909d-66bb-4dc4-a61d-a7784ddc8797",
   "metadata": {},
   "outputs": [
    {
     "name": "stdout",
     "output_type": "stream",
     "text": [
      "welcome to the program for finding all prime numbers from 1 to n\n",
      "enter n\n"
     ]
    },
    {
     "name": "stdin",
     "output_type": "stream",
     "text": [
      " 15\n"
     ]
    }
   ],
   "source": [
    "print(\"welcome to the program for finding all prime numbers from 1 to n\")\n",
    "print(\"enter n\")\n",
    "num = int(input())\n",
    "def isprime(a: int):\n",
    "    for x in range(1, a+1):\n",
    "        if x % a ==0:\n",
    "            return False\n",
    "    return True\n",
    "for x in range(1, num+1):\n",
    "    if isprime(x) :\n",
    "        print(str(x) + \", \", end=\" \")\n",
    "    "
   ]
  },
  {
   "cell_type": "code",
   "execution_count": null,
   "id": "c6c62048-ca66-451b-a174-7030f9906c2a",
   "metadata": {},
   "outputs": [],
   "source": []
  }
 ],
 "metadata": {
  "kernelspec": {
   "display_name": "Python 3 (ipykernel)",
   "language": "python",
   "name": "python3"
  },
  "language_info": {
   "codemirror_mode": {
    "name": "ipython",
    "version": 3
   },
   "file_extension": ".py",
   "mimetype": "text/x-python",
   "name": "python",
   "nbconvert_exporter": "python",
   "pygments_lexer": "ipython3",
   "version": "3.11.7"
  }
 },
 "nbformat": 4,
 "nbformat_minor": 5
}
