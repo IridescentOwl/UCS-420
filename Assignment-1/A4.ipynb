{
 "cells": [
  {
   "cell_type": "markdown",
   "id": "e767a20d-ba12-4b9e-b11a-56a1a4652ec1",
   "metadata": {},
   "source": [
    "Assignment 4 UCS712 R.no 102317283(Dhairya)"
   ]
  },
  {
   "cell_type": "markdown",
   "id": "2729bdc1-c62f-41b5-937f-039a4a9bdfee",
   "metadata": {},
   "source": [
    "#A4.1"
   ]
  },
  {
   "cell_type": "code",
   "execution_count": 4,
   "id": "5fdb35fd-f827-4831-999d-43459730b0cf",
   "metadata": {},
   "outputs": [
    {
     "name": "stdout",
     "output_type": "stream",
     "text": [
      "Printing table of 7\n",
      "7 x 0 = 0\n",
      "7 x 1 = 7\n",
      "7 x 2 = 14\n",
      "7 x 3 = 21\n",
      "7 x 4 = 28\n",
      "7 x 5 = 35\n",
      "7 x 6 = 42\n",
      "7 x 7 = 49\n",
      "7 x 8 = 56\n",
      "7 x 9 = 63\n",
      "Printing table of 9\n",
      "9 x 0 = 0\n",
      "9 x 1 = 9\n",
      "9 x 2 = 18\n",
      "9 x 3 = 27\n",
      "9 x 4 = 36\n",
      "9 x 5 = 45\n",
      "9 x 6 = 54\n",
      "9 x 7 = 63\n",
      "9 x 8 = 72\n",
      "9 x 9 = 81\n"
     ]
    }
   ],
   "source": [
    "print(\"Printing table of 7\")\n",
    "for x in range(1,11):\n",
    "    print(\"7 x \" + str(x) + \" = \" + str(7*x))\n",
    "\n",
    "print(\"\\n\\nPrinting table of 9\")\n",
    "for x in range(1,11):\n",
    "    print(\"9 x \" + str(x) + \" = \" + str(9*x))"
   ]
  },
  {
   "cell_type": "markdown",
   "id": "d5965319-59d6-47e7-a6aa-dc9f841d1437",
   "metadata": {},
   "source": [
    "#A4.2"
   ]
  },
  {
   "cell_type": "code",
   "execution_count": 10,
   "id": "87e0652c-9930-410c-9f36-efde729e27e3",
   "metadata": {},
   "outputs": [
    {
     "name": "stdout",
     "output_type": "stream",
     "text": [
      "write the number for table: \n"
     ]
    },
    {
     "name": "stdin",
     "output_type": "stream",
     "text": [
      " 5\n"
     ]
    },
    {
     "name": "stdout",
     "output_type": "stream",
     "text": [
      "5 x 1 = 5\n",
      "5 x 2 = 10\n",
      "5 x 3 = 15\n",
      "5 x 4 = 20\n",
      "5 x 5 = 25\n",
      "5 x 6 = 30\n",
      "5 x 7 = 35\n",
      "5 x 8 = 40\n",
      "5 x 9 = 45\n",
      "5 x 10 = 50\n"
     ]
    }
   ],
   "source": [
    "print(\"write the number for table: \")\n",
    "num = int(input())\n",
    "for x in range(1,11):\n",
    "    print(str(num) + \" x \" + str(x) + \" = \" + str(num*x))"
   ]
  },
  {
   "cell_type": "markdown",
   "id": "ce1f6ae5-6b99-416f-b925-580773613d21",
   "metadata": {},
   "source": [
    "#A4.3"
   ]
  },
  {
   "cell_type": "code",
   "execution_count": 16,
   "id": "0477909d-66bb-4dc4-a61d-a7784ddc8797",
   "metadata": {},
   "outputs": [
    {
     "name": "stdout",
     "output_type": "stream",
     "text": [
      "welcome to the program for finding the sum of first n natural numbers\n",
      "enter n\n"
     ]
    },
    {
     "name": "stdin",
     "output_type": "stream",
     "text": [
      " 6\n"
     ]
    },
    {
     "name": "stdout",
     "output_type": "stream",
     "text": [
      "sum of first 6 natural numbers is 21.0\n"
     ]
    }
   ],
   "source": [
    "print(\"welcome to the program for finding the sum of first n natural numbers\")\n",
    "print(\"enter n\")\n",
    "num = int(input())\n",
    "print(\"sum of first \" + str(num) + \" natural numbers is \" + str(num*(num+1)//2))"
   ]
  }
 ],
 "metadata": {
  "kernelspec": {
   "display_name": "Python 3 (ipykernel)",
   "language": "python",
   "name": "python3"
  },
  "language_info": {
   "codemirror_mode": {
    "name": "ipython",
    "version": 3
   },
   "file_extension": ".py",
   "mimetype": "text/x-python",
   "name": "python",
   "nbconvert_exporter": "python",
   "pygments_lexer": "ipython3",
   "version": "3.11.7"
  }
 },
 "nbformat": 4,
 "nbformat_minor": 5
}
