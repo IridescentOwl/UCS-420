{
 "cells": [
  {
   "cell_type": "markdown",
   "id": "e767a20d-ba12-4b9e-b11a-56a1a4652ec1",
   "metadata": {},
   "source": [
    "Assignment 2 UCS712 R.no 102317283(Dhairya)"
   ]
  },
  {
   "cell_type": "markdown",
   "id": "2729bdc1-c62f-41b5-937f-039a4a9bdfee",
   "metadata": {},
   "source": [
    "#A2.1"
   ]
  },
  {
   "cell_type": "code",
   "execution_count": 3,
   "id": "c3ad7f40-899c-4302-b7a5-6d99a657fe90",
   "metadata": {},
   "outputs": [
    {
     "name": "stdout",
     "output_type": "stream",
     "text": [
      "6\n"
     ]
    }
   ],
   "source": [
    "a,b,c = 1,2,3\n",
    "print(a+b+c)"
   ]
  },
  {
   "cell_type": "markdown",
   "id": "f4dd34a3-5d75-4d01-920a-f2bc81add5ae",
   "metadata": {},
   "source": [
    "#A2.2"
   ]
  },
  {
   "cell_type": "code",
   "execution_count": 1,
   "id": "4117337a-2553-4a95-b96c-7fde258db89b",
   "metadata": {},
   "outputs": [
    {
     "name": "stdout",
     "output_type": "stream",
     "text": [
      "String 1.String 2.String 3.\n"
     ]
    }
   ],
   "source": [
    "s1 = \"String 1.\"\n",
    "s2 = \"String 2.\"\n",
    "s3 = \"String 3.\"\n",
    "print(s1 + s2 + s3)"
   ]
  }
 ],
 "metadata": {
  "kernelspec": {
   "display_name": "Python 3 (ipykernel)",
   "language": "python",
   "name": "python3"
  },
  "language_info": {
   "codemirror_mode": {
    "name": "ipython",
    "version": 3
   },
   "file_extension": ".py",
   "mimetype": "text/x-python",
   "name": "python",
   "nbconvert_exporter": "python",
   "pygments_lexer": "ipython3",
   "version": "3.11.7"
  }
 },
 "nbformat": 4,
 "nbformat_minor": 5
}
