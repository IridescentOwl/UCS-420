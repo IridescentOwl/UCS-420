{
 "cells": [
  {
   "cell_type": "code",
   "execution_count": 1,
   "id": "251fc2d7-8048-41e2-b4d1-f6173b43bbba",
   "metadata": {},
   "outputs": [
    {
     "name": "stdout",
     "output_type": "stream",
     "text": [
      "1  +  2  +  3  =  6\n"
     ]
    }
   ],
   "source": [
    "#PROGRAM TO ADD THREE NUMBERS AND PRINTING THE RESULT\n",
    "a=1\n",
    "b=2\n",
    "c=3\n",
    "d=a+b+c\n",
    "print(a,\" + \",b,\" + \",c,\" = \",d)\n"
   ]
  },
  {
   "cell_type": "code",
   "execution_count": 5,
   "id": "6150a2ab-5ef6-4c3f-9e2a-ab2ce1c09f31",
   "metadata": {},
   "outputs": [
    {
     "name": "stdout",
     "output_type": "stream",
     "text": [
      "HI!  +  I AM  +  ASHPREET  ->  HI! I AM ASHPREET\n"
     ]
    }
   ],
   "source": [
    "#PROGRAM TO CONCATENATE THREE STRINGS AND PRINT THE RESULT\n",
    "a=\"HI! \"\n",
    "b=\"I AM \"\n",
    "c=\"ASHPREET\"\n",
    "d=a+b+c\n",
    "print(a,\"+ \",b,\"+ \",c,\" -> \",d)"
   ]
  },
  {
   "cell_type": "code",
   "execution_count": null,
   "id": "04d487bb-ea68-40c7-bbcd-8bb1750058e8",
   "metadata": {},
   "outputs": [],
   "source": []
  }
 ],
 "metadata": {
  "kernelspec": {
   "display_name": "Python [conda env:base] *",
   "language": "python",
   "name": "conda-base-py"
  },
  "language_info": {
   "codemirror_mode": {
    "name": "ipython",
    "version": 3
   },
   "file_extension": ".py",
   "mimetype": "text/x-python",
   "name": "python",
   "nbconvert_exporter": "python",
   "pygments_lexer": "ipython3",
   "version": "3.12.7"
  }
 },
 "nbformat": 4,
 "nbformat_minor": 5
}
