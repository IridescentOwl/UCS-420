{
 "cells": [
  {
   "cell_type": "code",
   "execution_count": 3,
   "id": "77147a4f-9b2f-4452-9187-ff862a42dee2",
   "metadata": {},
   "outputs": [
    {
     "name": "stdin",
     "output_type": "stream",
     "text": [
      "Enter a no. 5\n"
     ]
    },
    {
     "name": "stdout",
     "output_type": "stream",
     "text": [
      "Sum of all odd numbers from 1 to 5 is 9\n"
     ]
    }
   ],
   "source": [
    "#PROGRAM USING FUNCTION TO ADD ALL ODD NUMBERS FROM 1 TO N, N IS GIVEN BY USER\n",
    "n=int(input(\"Enter a no.\"))\n",
    "def isodd(a):\n",
    "    if a%2==0:\n",
    "        return 0\n",
    "    else:\n",
    "        return 1\n",
    "sum=0\n",
    "for i in range(1,n+1):\n",
    "    if (isodd(i)):\n",
    "        sum+=i\n",
    "\n",
    "print(\"Sum of all odd numbers from 1 to\",n,\"is\",sum)\n",
    "\n"
   ]
  },
  {
   "cell_type": "code",
   "execution_count": 7,
   "id": "a02f36bb-ac65-4b54-b292-84e14026afc7",
   "metadata": {},
   "outputs": [
    {
     "name": "stdin",
     "output_type": "stream",
     "text": [
      "Enter a no. 5\n"
     ]
    },
    {
     "name": "stdout",
     "output_type": "stream",
     "text": [
      "Sum of all prime numbers from 1 to 5 is 10\n"
     ]
    }
   ],
   "source": [
    "#PROGRAM USING FUNCTION TO ADD ALL PRIME NUMBERS FROM 1 TO N, N IS GIVEN BY USER\n",
    "n=int(input(\"Enter a no.\"))\n",
    "def isprime(a):\n",
    "    for i in range(2,int(a**0.5)+1):\n",
    "        if a%i==0:\n",
    "            return 0\n",
    "    return 1\n",
    "sum=0\n",
    "for i in range(2,n+1):\n",
    "    if (isprime(i)):\n",
    "        sum+=i\n",
    "\n",
    "print(\"Sum of all prime numbers from 1 to\",n,\"is\",sum)\n",
    "\n"
   ]
  },
  {
   "cell_type": "code",
   "execution_count": null,
   "id": "01f669e0-af7e-49a3-9734-e8e022ec48d2",
   "metadata": {},
   "outputs": [],
   "source": []
  }
 ],
 "metadata": {
  "kernelspec": {
   "display_name": "Python [conda env:base] *",
   "language": "python",
   "name": "conda-base-py"
  },
  "language_info": {
   "codemirror_mode": {
    "name": "ipython",
    "version": 3
   },
   "file_extension": ".py",
   "mimetype": "text/x-python",
   "name": "python",
   "nbconvert_exporter": "python",
   "pygments_lexer": "ipython3",
   "version": "3.12.7"
  }
 },
 "nbformat": 4,
 "nbformat_minor": 5
}
