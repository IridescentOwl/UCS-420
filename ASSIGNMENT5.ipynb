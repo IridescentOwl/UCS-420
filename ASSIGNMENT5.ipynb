{
 "cells": [
  {
   "cell_type": "code",
   "execution_count": 3,
   "id": "a02256bf-af29-4f5c-8652-f4e00cd6b6fd",
   "metadata": {},
   "outputs": [
    {
     "name": "stdin",
     "output_type": "stream",
     "text": [
      "Enter first no. 1\n",
      "Enter second no. 2\n",
      "Enter third no. 3\n"
     ]
    },
    {
     "name": "stdout",
     "output_type": "stream",
     "text": [
      "Max no. is  3\n"
     ]
    }
   ],
   "source": [
    "#PROGRAM TO FIND MAX AMONG THREE NUMBERS AND INPUT FROM USER\n",
    "a=int(input(\"Enter first no.\"))\n",
    "b=int(input(\"Enter second no.\"))\n",
    "c=int(input(\"Enter third no.\"))\n",
    "print(\"Max no. is \",max(a,b,c))"
   ]
  },
  {
   "cell_type": "code",
   "execution_count": 19,
   "id": "989addb5-9c60-4024-9bda-37c60a6d34ae",
   "metadata": {},
   "outputs": [
    {
     "name": "stdin",
     "output_type": "stream",
     "text": [
      "Enter a no. 63\n"
     ]
    },
    {
     "name": "stdout",
     "output_type": "stream",
     "text": [
      "Sum of all numbers divisible by 7 and 9 from 1 to 63 is 63\n"
     ]
    }
   ],
   "source": [
    "#PROGRAM TO ADD ALL NUMBERS DIVISIBLE BY 7 AND 9 FROM 1 TO N AND N GIVEN BY USER\n",
    "n=int(input(\"Enter a no.\"))\n",
    "sum=0\n",
    "\n",
    "for i in range(1,n+1):\n",
    "    if i % 7 == 0 and i % 9 == 0:\n",
    "        sum+=i\n",
    "print(\"Sum of all numbers divisible by 7 and 9 from 1 to\",n,\"is\",sum)\n",
    "    "
   ]
  },
  {
   "cell_type": "code",
   "execution_count": 37,
   "id": "0fa7046f-e29f-43d1-95f9-9aee85510633",
   "metadata": {},
   "outputs": [
    {
     "name": "stdin",
     "output_type": "stream",
     "text": [
      "Enter a no. 5\n"
     ]
    },
    {
     "name": "stdout",
     "output_type": "stream",
     "text": [
      "Sum of all prime numbers from 1 to 5 is 10\n"
     ]
    }
   ],
   "source": [
    "#PROGRAM TO ADD ALL PRIME NUMBERS FROM 1 TO N AND N GIVEN BY USER\n",
    "n=int(input(\"Enter a no.\"))\n",
    "sum=0\n",
    "def prime(a):\n",
    "    for i in range(2,int(a**0.5)+1):\n",
    "        if a%i==0:\n",
    "            return 0\n",
    "    return 1\n",
    "    \n",
    "for i in range(2,n+1):\n",
    "    if prime(i):\n",
    "        \n",
    "        sum+=i\n",
    "\n",
    "print(\"Sum of all prime numbers from 1 to\",n,\"is\",sum)"
   ]
  },
  {
   "cell_type": "code",
   "execution_count": null,
   "id": "bc93afe9-bb98-4c9d-952f-67f082ecdec8",
   "metadata": {},
   "outputs": [],
   "source": []
  }
 ],
 "metadata": {
  "kernelspec": {
   "display_name": "Python [conda env:base] *",
   "language": "python",
   "name": "conda-base-py"
  },
  "language_info": {
   "codemirror_mode": {
    "name": "ipython",
    "version": 3
   },
   "file_extension": ".py",
   "mimetype": "text/x-python",
   "name": "python",
   "nbconvert_exporter": "python",
   "pygments_lexer": "ipython3",
   "version": "3.12.7"
  }
 },
 "nbformat": 4,
 "nbformat_minor": 5
}
