{
 "cells": [
  {
   "cell_type": "code",
   "execution_count": 7,
   "id": "95ddb2d8-80bb-4389-93ba-b7a09695f28c",
   "metadata": {},
   "outputs": [
    {
     "name": "stdout",
     "output_type": "stream",
     "text": [
      "Table of 7 ->\n",
      "7 x  1  =  7\n",
      "7 x  2  =  14\n",
      "7 x  3  =  21\n",
      "7 x  4  =  28\n",
      "7 x  5  =  35\n",
      "7 x  6  =  42\n",
      "7 x  7  =  49\n",
      "7 x  8  =  56\n",
      "7 x  9  =  63\n",
      "7 x  10  =  70\n",
      "Table of 9 ->\n",
      "9 x  1  =  9\n",
      "9 x  2  =  18\n",
      "9 x  3  =  27\n",
      "9 x  4  =  36\n",
      "9 x  5  =  45\n",
      "9 x  6  =  54\n",
      "9 x  7  =  63\n",
      "9 x  8  =  72\n",
      "9 x  9  =  81\n",
      "9 x  10  =  90\n"
     ]
    }
   ],
   "source": [
    "#PROGRAM TO PRINT TABLE OF 7 AND 9\n",
    "print(\"Table of 7 ->\")\n",
    "for i in range(1,11):\n",
    "    print(\"7 x \",i,\" = \", 7*i)\n",
    "print(\"Table of 9 ->\")\n",
    "for i in range(1,11):\n",
    "    print(\"9 x \",i,\" = \", 9*i)\n"
   ]
  },
  {
   "cell_type": "code",
   "execution_count": null,
   "id": "0466e24c-490d-4db7-a7f2-9c74f7802cb9",
   "metadata": {},
   "outputs": [],
   "source": []
  }
 ],
 "metadata": {
  "kernelspec": {
   "display_name": "Python [conda env:base] *",
   "language": "python",
   "name": "conda-base-py"
  },
  "language_info": {
   "codemirror_mode": {
    "name": "ipython",
    "version": 3
   },
   "file_extension": ".py",
   "mimetype": "text/x-python",
   "name": "python",
   "nbconvert_exporter": "python",
   "pygments_lexer": "ipython3",
   "version": "3.12.7"
  }
 },
 "nbformat": 4,
 "nbformat_minor": 5
}
